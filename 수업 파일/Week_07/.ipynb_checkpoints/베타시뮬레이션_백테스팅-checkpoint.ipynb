{
 "cells": [
  {
   "cell_type": "markdown",
   "metadata": {},
   "source": [
    "####  베타  전략 ( 고베타 효과 검증)"
   ]
  },
  {
   "cell_type": "code",
   "execution_count": 3,
   "metadata": {},
   "outputs": [],
   "source": [
    "# ! pip install seaborn"
   ]
  },
  {
   "cell_type": "code",
   "execution_count": 1,
   "metadata": {},
   "outputs": [],
   "source": [
    "import pandas as pd\n",
    "import numpy as np\n",
    "import seaborn as sns\n",
    "import matplotlib.pyplot as plt\n",
    "from matplotlib import font_manager, rc\n",
    "import os\n",
    "from datetime import datetime\n",
    "from dateutil.relativedelta import relativedelta\n",
    "\n",
    "# plt.style.use('seaborn')\n",
    "FONT_NAME = font_manager.FontProperties(fname=\"c:/Windows/Fonts/malgun.ttf\").get_name()\n",
    "rc('font', family=FONT_NAME)"
   ]
  },
  {
   "cell_type": "code",
   "execution_count": 2,
   "metadata": {},
   "outputs": [],
   "source": [
    "import warnings      # 경고 메시지 차단\n",
    "warnings.filterwarnings('ignore')"
   ]
  },
  {
   "cell_type": "code",
   "execution_count": 3,
   "metadata": {},
   "outputs": [],
   "source": [
    "#  데이터 불러오기\n",
    "\n",
    "folder_dir = 'C:/data\\실습데이터'\n",
    "DATA_FILE = \"Kospi_Fin_Price_2024.xlsx\"      # 2010년 1월 5일 ~~~\n",
    "\n",
    "data_wb = pd.ExcelFile(folder_dir + \"/\" + DATA_FILE)        \n",
    "adj_ts = data_wb.parse(\"수정주가\", index_col=0)"
   ]
  },
  {
   "cell_type": "code",
   "execution_count": 4,
   "metadata": {
    "scrolled": true
   },
   "outputs": [],
   "source": [
    "cprice=adj_ts.dropna(axis=1)   #  결측치가 있는 컬럼(주식)삭제 "
   ]
  },
  {
   "cell_type": "code",
   "execution_count": 5,
   "metadata": {},
   "outputs": [
    {
     "data": {
      "text/html": [
       "<div>\n",
       "<style scoped>\n",
       "    .dataframe tbody tr th:only-of-type {\n",
       "        vertical-align: middle;\n",
       "    }\n",
       "\n",
       "    .dataframe tbody tr th {\n",
       "        vertical-align: top;\n",
       "    }\n",
       "\n",
       "    .dataframe thead th {\n",
       "        text-align: right;\n",
       "    }\n",
       "</style>\n",
       "<table border=\"1\" class=\"dataframe\">\n",
       "  <thead>\n",
       "    <tr style=\"text-align: right;\">\n",
       "      <th></th>\n",
       "      <th>kospi</th>\n",
       "      <th>삼성전자</th>\n",
       "      <th>SK하이닉스</th>\n",
       "      <th>현대차</th>\n",
       "      <th>셀트리온</th>\n",
       "      <th>기아</th>\n",
       "      <th>KB금융</th>\n",
       "      <th>POSCO홀딩스</th>\n",
       "      <th>신한지주</th>\n",
       "      <th>NAVER</th>\n",
       "      <th>...</th>\n",
       "      <th>제이준코스메틱</th>\n",
       "      <th>동양고속</th>\n",
       "      <th>한창</th>\n",
       "      <th>진도</th>\n",
       "      <th>한국주강</th>\n",
       "      <th>KC그린홀딩스</th>\n",
       "      <th>한솔PNS</th>\n",
       "      <th>주연테크</th>\n",
       "      <th>SHD</th>\n",
       "      <th>일정실업</th>\n",
       "    </tr>\n",
       "    <tr>\n",
       "      <th>date</th>\n",
       "      <th></th>\n",
       "      <th></th>\n",
       "      <th></th>\n",
       "      <th></th>\n",
       "      <th></th>\n",
       "      <th></th>\n",
       "      <th></th>\n",
       "      <th></th>\n",
       "      <th></th>\n",
       "      <th></th>\n",
       "      <th></th>\n",
       "      <th></th>\n",
       "      <th></th>\n",
       "      <th></th>\n",
       "      <th></th>\n",
       "      <th></th>\n",
       "      <th></th>\n",
       "      <th></th>\n",
       "      <th></th>\n",
       "      <th></th>\n",
       "      <th></th>\n",
       "    </tr>\n",
       "  </thead>\n",
       "  <tbody>\n",
       "    <tr>\n",
       "      <th>2010-01-01</th>\n",
       "      <td>1682.77</td>\n",
       "      <td>15980</td>\n",
       "      <td>23150</td>\n",
       "      <td>121000</td>\n",
       "      <td>12845</td>\n",
       "      <td>20050</td>\n",
       "      <td>59700</td>\n",
       "      <td>618000</td>\n",
       "      <td>43200</td>\n",
       "      <td>60269</td>\n",
       "      <td>...</td>\n",
       "      <td>2177107</td>\n",
       "      <td>20721</td>\n",
       "      <td>1379</td>\n",
       "      <td>1894</td>\n",
       "      <td>4755</td>\n",
       "      <td>8000</td>\n",
       "      <td>1765</td>\n",
       "      <td>1144</td>\n",
       "      <td>14862</td>\n",
       "      <td>13779</td>\n",
       "    </tr>\n",
       "    <tr>\n",
       "      <th>2010-01-02</th>\n",
       "      <td>1682.77</td>\n",
       "      <td>15980</td>\n",
       "      <td>23150</td>\n",
       "      <td>121000</td>\n",
       "      <td>12845</td>\n",
       "      <td>20050</td>\n",
       "      <td>59700</td>\n",
       "      <td>618000</td>\n",
       "      <td>43200</td>\n",
       "      <td>60269</td>\n",
       "      <td>...</td>\n",
       "      <td>2177107</td>\n",
       "      <td>20721</td>\n",
       "      <td>1379</td>\n",
       "      <td>1894</td>\n",
       "      <td>4755</td>\n",
       "      <td>8000</td>\n",
       "      <td>1765</td>\n",
       "      <td>1144</td>\n",
       "      <td>14862</td>\n",
       "      <td>13779</td>\n",
       "    </tr>\n",
       "    <tr>\n",
       "      <th>2010-01-03</th>\n",
       "      <td>1682.77</td>\n",
       "      <td>15980</td>\n",
       "      <td>23150</td>\n",
       "      <td>121000</td>\n",
       "      <td>12845</td>\n",
       "      <td>20050</td>\n",
       "      <td>59700</td>\n",
       "      <td>618000</td>\n",
       "      <td>43200</td>\n",
       "      <td>60269</td>\n",
       "      <td>...</td>\n",
       "      <td>2177107</td>\n",
       "      <td>20721</td>\n",
       "      <td>1379</td>\n",
       "      <td>1894</td>\n",
       "      <td>4755</td>\n",
       "      <td>8000</td>\n",
       "      <td>1765</td>\n",
       "      <td>1144</td>\n",
       "      <td>14862</td>\n",
       "      <td>13779</td>\n",
       "    </tr>\n",
       "  </tbody>\n",
       "</table>\n",
       "<p>3 rows × 611 columns</p>\n",
       "</div>"
      ],
      "text/plain": [
       "              kospi   삼성전자  SK하이닉스     현대차   셀트리온     기아   KB금융  POSCO홀딩스  \\\n",
       "date                                                                        \n",
       "2010-01-01  1682.77  15980   23150  121000  12845  20050  59700    618000   \n",
       "2010-01-02  1682.77  15980   23150  121000  12845  20050  59700    618000   \n",
       "2010-01-03  1682.77  15980   23150  121000  12845  20050  59700    618000   \n",
       "\n",
       "             신한지주  NAVER  ...  제이준코스메틱   동양고속    한창    진도  한국주강  KC그린홀딩스  \\\n",
       "date                      ...                                              \n",
       "2010-01-01  43200  60269  ...  2177107  20721  1379  1894  4755     8000   \n",
       "2010-01-02  43200  60269  ...  2177107  20721  1379  1894  4755     8000   \n",
       "2010-01-03  43200  60269  ...  2177107  20721  1379  1894  4755     8000   \n",
       "\n",
       "            한솔PNS  주연테크    SHD   일정실업  \n",
       "date                                   \n",
       "2010-01-01   1765  1144  14862  13779  \n",
       "2010-01-02   1765  1144  14862  13779  \n",
       "2010-01-03   1765  1144  14862  13779  \n",
       "\n",
       "[3 rows x 611 columns]"
      ]
     },
     "execution_count": 5,
     "metadata": {},
     "output_type": "execute_result"
    }
   ],
   "source": [
    "cprice.head(3)"
   ]
  },
  {
   "cell_type": "code",
   "execution_count": 6,
   "metadata": {},
   "outputs": [
    {
     "data": {
      "text/plain": [
       "(5395, 611)"
      ]
     },
     "execution_count": 6,
     "metadata": {},
     "output_type": "execute_result"
    }
   ],
   "source": [
    "cprice.shape"
   ]
  },
  {
   "cell_type": "code",
   "execution_count": 7,
   "metadata": {},
   "outputs": [
    {
     "data": {
      "text/html": [
       "<div>\n",
       "<style scoped>\n",
       "    .dataframe tbody tr th:only-of-type {\n",
       "        vertical-align: middle;\n",
       "    }\n",
       "\n",
       "    .dataframe tbody tr th {\n",
       "        vertical-align: top;\n",
       "    }\n",
       "\n",
       "    .dataframe thead th {\n",
       "        text-align: right;\n",
       "    }\n",
       "</style>\n",
       "<table border=\"1\" class=\"dataframe\">\n",
       "  <thead>\n",
       "    <tr style=\"text-align: right;\">\n",
       "      <th></th>\n",
       "      <th>kospi</th>\n",
       "      <th>삼성전자</th>\n",
       "      <th>SK하이닉스</th>\n",
       "      <th>현대차</th>\n",
       "      <th>셀트리온</th>\n",
       "      <th>기아</th>\n",
       "      <th>KB금융</th>\n",
       "      <th>POSCO홀딩스</th>\n",
       "      <th>신한지주</th>\n",
       "      <th>NAVER</th>\n",
       "      <th>...</th>\n",
       "      <th>제이준코스메틱</th>\n",
       "      <th>동양고속</th>\n",
       "      <th>한창</th>\n",
       "      <th>진도</th>\n",
       "      <th>한국주강</th>\n",
       "      <th>KC그린홀딩스</th>\n",
       "      <th>한솔PNS</th>\n",
       "      <th>주연테크</th>\n",
       "      <th>SHD</th>\n",
       "      <th>일정실업</th>\n",
       "    </tr>\n",
       "    <tr>\n",
       "      <th>date</th>\n",
       "      <th></th>\n",
       "      <th></th>\n",
       "      <th></th>\n",
       "      <th></th>\n",
       "      <th></th>\n",
       "      <th></th>\n",
       "      <th></th>\n",
       "      <th></th>\n",
       "      <th></th>\n",
       "      <th></th>\n",
       "      <th></th>\n",
       "      <th></th>\n",
       "      <th></th>\n",
       "      <th></th>\n",
       "      <th></th>\n",
       "      <th></th>\n",
       "      <th></th>\n",
       "      <th></th>\n",
       "      <th></th>\n",
       "      <th></th>\n",
       "      <th></th>\n",
       "    </tr>\n",
       "  </thead>\n",
       "  <tbody>\n",
       "    <tr>\n",
       "      <th>2010-01-02</th>\n",
       "      <td>0.000000</td>\n",
       "      <td>0.000000</td>\n",
       "      <td>0.000000</td>\n",
       "      <td>0.000000</td>\n",
       "      <td>0.000000</td>\n",
       "      <td>0.000000</td>\n",
       "      <td>0.000000</td>\n",
       "      <td>0.000000</td>\n",
       "      <td>0.000000</td>\n",
       "      <td>0.00000</td>\n",
       "      <td>...</td>\n",
       "      <td>0.000000</td>\n",
       "      <td>0.000000</td>\n",
       "      <td>0.00000</td>\n",
       "      <td>0.000000</td>\n",
       "      <td>0.000000</td>\n",
       "      <td>0.0</td>\n",
       "      <td>0.00000</td>\n",
       "      <td>0.000000</td>\n",
       "      <td>0.000000</td>\n",
       "      <td>0.000000</td>\n",
       "    </tr>\n",
       "    <tr>\n",
       "      <th>2010-01-03</th>\n",
       "      <td>0.000000</td>\n",
       "      <td>0.000000</td>\n",
       "      <td>0.000000</td>\n",
       "      <td>0.000000</td>\n",
       "      <td>0.000000</td>\n",
       "      <td>0.000000</td>\n",
       "      <td>0.000000</td>\n",
       "      <td>0.000000</td>\n",
       "      <td>0.000000</td>\n",
       "      <td>0.00000</td>\n",
       "      <td>...</td>\n",
       "      <td>0.000000</td>\n",
       "      <td>0.000000</td>\n",
       "      <td>0.00000</td>\n",
       "      <td>0.000000</td>\n",
       "      <td>0.000000</td>\n",
       "      <td>0.0</td>\n",
       "      <td>0.00000</td>\n",
       "      <td>0.000000</td>\n",
       "      <td>0.000000</td>\n",
       "      <td>0.000000</td>\n",
       "    </tr>\n",
       "    <tr>\n",
       "      <th>2010-01-04</th>\n",
       "      <td>0.007945</td>\n",
       "      <td>0.012516</td>\n",
       "      <td>0.041037</td>\n",
       "      <td>-0.016529</td>\n",
       "      <td>0.040016</td>\n",
       "      <td>0.037406</td>\n",
       "      <td>-0.005025</td>\n",
       "      <td>-0.009709</td>\n",
       "      <td>0.009259</td>\n",
       "      <td>0.00521</td>\n",
       "      <td>...</td>\n",
       "      <td>0.008333</td>\n",
       "      <td>-0.003716</td>\n",
       "      <td>0.04496</td>\n",
       "      <td>0.021647</td>\n",
       "      <td>-0.001052</td>\n",
       "      <td>0.0</td>\n",
       "      <td>0.04136</td>\n",
       "      <td>0.039336</td>\n",
       "      <td>0.003028</td>\n",
       "      <td>-0.029538</td>\n",
       "    </tr>\n",
       "  </tbody>\n",
       "</table>\n",
       "<p>3 rows × 611 columns</p>\n",
       "</div>"
      ],
      "text/plain": [
       "               kospi      삼성전자    SK하이닉스       현대차      셀트리온        기아  \\\n",
       "date                                                                     \n",
       "2010-01-02  0.000000  0.000000  0.000000  0.000000  0.000000  0.000000   \n",
       "2010-01-03  0.000000  0.000000  0.000000  0.000000  0.000000  0.000000   \n",
       "2010-01-04  0.007945  0.012516  0.041037 -0.016529  0.040016  0.037406   \n",
       "\n",
       "                KB금융  POSCO홀딩스      신한지주    NAVER  ...   제이준코스메틱      동양고속  \\\n",
       "date                                               ...                       \n",
       "2010-01-02  0.000000  0.000000  0.000000  0.00000  ...  0.000000  0.000000   \n",
       "2010-01-03  0.000000  0.000000  0.000000  0.00000  ...  0.000000  0.000000   \n",
       "2010-01-04 -0.005025 -0.009709  0.009259  0.00521  ...  0.008333 -0.003716   \n",
       "\n",
       "                 한창        진도      한국주강  KC그린홀딩스    한솔PNS      주연테크       SHD  \\\n",
       "date                                                                            \n",
       "2010-01-02  0.00000  0.000000  0.000000      0.0  0.00000  0.000000  0.000000   \n",
       "2010-01-03  0.00000  0.000000  0.000000      0.0  0.00000  0.000000  0.000000   \n",
       "2010-01-04  0.04496  0.021647 -0.001052      0.0  0.04136  0.039336  0.003028   \n",
       "\n",
       "                일정실업  \n",
       "date                  \n",
       "2010-01-02  0.000000  \n",
       "2010-01-03  0.000000  \n",
       "2010-01-04 -0.029538  \n",
       "\n",
       "[3 rows x 611 columns]"
      ]
     },
     "execution_count": 7,
     "metadata": {},
     "output_type": "execute_result"
    }
   ],
   "source": [
    "# 베타값 구하기 위한 작업 (일간수익률)\n",
    "\n",
    "adj_w = cprice.copy()   #  일간 시계열로 변환\n",
    "adj_wrate=adj_w.pct_change(1)   # 일간 수익률 변환\n",
    "adj_wr=adj_wrate[1:]\n",
    "adj_wr=adj_wr.dropna(axis='columns')   #  데이터가  기간내에 처음과  끝시점 모두 있는 종목만 추린다. \n",
    "adj_wr.head(3)"
   ]
  },
  {
   "cell_type": "code",
   "execution_count": 8,
   "metadata": {},
   "outputs": [
    {
     "data": {
      "text/plain": [
       "date\n",
       "2010-01-02    0.000000\n",
       "2010-01-03    0.000000\n",
       "2010-01-04    0.007945\n",
       "2010-01-05   -0.003254\n",
       "2010-01-06    0.008695\n",
       "                ...   \n",
       "2024-10-04    0.003131\n",
       "2024-10-05    0.000000\n",
       "2024-10-06    0.000000\n",
       "2024-10-07    0.015827\n",
       "2024-10-08   -0.006137\n",
       "Name: kospi, Length: 5394, dtype: float64"
      ]
     },
     "execution_count": 8,
     "metadata": {},
     "output_type": "execute_result"
    }
   ],
   "source": [
    "adj_wr['kospi']"
   ]
  },
  {
   "cell_type": "code",
   "execution_count": 9,
   "metadata": {},
   "outputs": [],
   "source": [
    "ss=adj_wr['kospi'].values.reshape(-1, 1)  #  reshape(-1,1) 배열함수로 배열의 차원을 변경  -1은 열의 값이 특정 정수로 지정이 되어있을 때, 남은 배열의 길이와 남은 차원으로부터 추정해서 알아서 지정"
   ]
  },
  {
   "cell_type": "code",
   "execution_count": 10,
   "metadata": {},
   "outputs": [
    {
     "data": {
      "text/plain": [
       "array([[1.],\n",
       "       [1.],\n",
       "       [1.],\n",
       "       ...,\n",
       "       [1.],\n",
       "       [1.],\n",
       "       [1.]])"
      ]
     },
     "execution_count": 10,
     "metadata": {},
     "output_type": "execute_result"
    }
   ],
   "source": [
    "np.ones_like(ss)"
   ]
  },
  {
   "cell_type": "code",
   "execution_count": 11,
   "metadata": {
    "scrolled": true
   },
   "outputs": [
    {
     "data": {
      "text/plain": [
       "array([[ 1.        ,  0.        ],\n",
       "       [ 1.        ,  0.        ],\n",
       "       [ 1.        ,  0.00794523],\n",
       "       ...,\n",
       "       [ 1.        ,  0.        ],\n",
       "       [ 1.        ,  0.01582669],\n",
       "       [ 1.        , -0.00613704]])"
      ]
     },
     "execution_count": 11,
     "metadata": {},
     "output_type": "execute_result"
    }
   ],
   "source": [
    "np.concatenate([np.ones_like(ss), ss], axis=1)"
   ]
  },
  {
   "cell_type": "code",
   "execution_count": 12,
   "metadata": {},
   "outputs": [
    {
     "data": {
      "text/plain": [
       "Timestamp('2024-10-08 00:00:00')"
      ]
     },
     "execution_count": 12,
     "metadata": {},
     "output_type": "execute_result"
    }
   ],
   "source": [
    "adj_w.index[-1]  # 마지막 날짜"
   ]
  },
  {
   "cell_type": "code",
   "execution_count": 13,
   "metadata": {},
   "outputs": [],
   "source": [
    "def beta(df, market=None):  # 베타값을  행렬계산으로 한방에 다 구하기\n",
    "    \n",
    "    if market is None:\n",
    "        market = df['kospi']\n",
    "        df = df.drop('kospi', axis=1) # df: 개별 종목수익률\n",
    "    X = market.values.reshape(-1, 1)   # 재구조화 (-1) 행기준으로  X: kospi 수익률\n",
    "    X = np.concatenate([np.ones_like(X), X], axis=1)\n",
    "    b = np.linalg.pinv(X.T.dot(X)).dot(X.T).dot(df.values)    \n",
    "    return pd.Series(b[1], df.columns, name=df.index[-1])"
   ]
  },
  {
   "cell_type": "code",
   "execution_count": 14,
   "metadata": {},
   "outputs": [
    {
     "name": "stdout",
     "output_type": "stream",
     "text": [
      "삼성전자       1.135921\n",
      "SK하이닉스     1.313509\n",
      "현대차        1.075824\n",
      "셀트리온       0.854956\n",
      "기아         0.984850\n",
      "             ...   \n",
      "KC그린홀딩스    0.884204\n",
      "한솔PNS      1.023512\n",
      "주연테크       0.841704\n",
      "SHD        0.592425\n",
      "일정실업       0.426401\n",
      "Name: 2024-10-08 00:00:00, Length: 610, dtype: float64\n"
     ]
    }
   ],
   "source": [
    "print(beta(adj_wr))"
   ]
  },
  {
   "cell_type": "code",
   "execution_count": 15,
   "metadata": {},
   "outputs": [],
   "source": [
    "# 전종목 일별 롤링 베타구하기\n",
    "\n",
    "def roll(df, w):\n",
    "    for i in range(df.shape[0] - w + 1):   # 롤링 기간 설정\n",
    "            yield pd.DataFrame(df.values[i:i+w, :], df.index[i:i+w], df.columns)"
   ]
  },
  {
   "cell_type": "code",
   "execution_count": 16,
   "metadata": {},
   "outputs": [],
   "source": [
    "betas = pd.concat([beta(adj_wr) for adj_wr in roll(adj_wr, 240)], axis=1).T"
   ]
  },
  {
   "cell_type": "code",
   "execution_count": 17,
   "metadata": {},
   "outputs": [
    {
     "data": {
      "text/html": [
       "<div>\n",
       "<style scoped>\n",
       "    .dataframe tbody tr th:only-of-type {\n",
       "        vertical-align: middle;\n",
       "    }\n",
       "\n",
       "    .dataframe tbody tr th {\n",
       "        vertical-align: top;\n",
       "    }\n",
       "\n",
       "    .dataframe thead th {\n",
       "        text-align: right;\n",
       "    }\n",
       "</style>\n",
       "<table border=\"1\" class=\"dataframe\">\n",
       "  <thead>\n",
       "    <tr style=\"text-align: right;\">\n",
       "      <th></th>\n",
       "      <th>삼성전자</th>\n",
       "      <th>SK하이닉스</th>\n",
       "      <th>현대차</th>\n",
       "      <th>셀트리온</th>\n",
       "      <th>기아</th>\n",
       "      <th>KB금융</th>\n",
       "      <th>POSCO홀딩스</th>\n",
       "      <th>신한지주</th>\n",
       "      <th>NAVER</th>\n",
       "      <th>LG화학</th>\n",
       "      <th>...</th>\n",
       "      <th>제이준코스메틱</th>\n",
       "      <th>동양고속</th>\n",
       "      <th>한창</th>\n",
       "      <th>진도</th>\n",
       "      <th>한국주강</th>\n",
       "      <th>KC그린홀딩스</th>\n",
       "      <th>한솔PNS</th>\n",
       "      <th>주연테크</th>\n",
       "      <th>SHD</th>\n",
       "      <th>일정실업</th>\n",
       "    </tr>\n",
       "  </thead>\n",
       "  <tbody>\n",
       "    <tr>\n",
       "      <th>2010-08-29</th>\n",
       "      <td>1.273018</td>\n",
       "      <td>1.278107</td>\n",
       "      <td>0.868342</td>\n",
       "      <td>0.920317</td>\n",
       "      <td>0.800798</td>\n",
       "      <td>1.663606</td>\n",
       "      <td>1.211268</td>\n",
       "      <td>1.275114</td>\n",
       "      <td>0.591013</td>\n",
       "      <td>0.995828</td>\n",
       "      <td>...</td>\n",
       "      <td>1.334232</td>\n",
       "      <td>0.104456</td>\n",
       "      <td>0.432096</td>\n",
       "      <td>0.709205</td>\n",
       "      <td>1.025116</td>\n",
       "      <td>1.446386</td>\n",
       "      <td>1.022537</td>\n",
       "      <td>0.676625</td>\n",
       "      <td>0.574500</td>\n",
       "      <td>0.180172</td>\n",
       "    </tr>\n",
       "    <tr>\n",
       "      <th>2010-08-30</th>\n",
       "      <td>1.263871</td>\n",
       "      <td>1.253407</td>\n",
       "      <td>0.874111</td>\n",
       "      <td>0.890493</td>\n",
       "      <td>0.797717</td>\n",
       "      <td>1.666423</td>\n",
       "      <td>1.216729</td>\n",
       "      <td>1.282342</td>\n",
       "      <td>0.585835</td>\n",
       "      <td>0.986772</td>\n",
       "      <td>...</td>\n",
       "      <td>1.302338</td>\n",
       "      <td>0.094483</td>\n",
       "      <td>0.424786</td>\n",
       "      <td>0.700275</td>\n",
       "      <td>1.016870</td>\n",
       "      <td>1.427863</td>\n",
       "      <td>0.979397</td>\n",
       "      <td>0.689545</td>\n",
       "      <td>0.543796</td>\n",
       "      <td>0.168736</td>\n",
       "    </tr>\n",
       "    <tr>\n",
       "      <th>2010-08-31</th>\n",
       "      <td>1.271296</td>\n",
       "      <td>1.281820</td>\n",
       "      <td>0.867501</td>\n",
       "      <td>0.874855</td>\n",
       "      <td>0.802497</td>\n",
       "      <td>1.666873</td>\n",
       "      <td>1.221349</td>\n",
       "      <td>1.282562</td>\n",
       "      <td>0.566062</td>\n",
       "      <td>0.983776</td>\n",
       "      <td>...</td>\n",
       "      <td>1.311584</td>\n",
       "      <td>0.094808</td>\n",
       "      <td>0.444188</td>\n",
       "      <td>0.696791</td>\n",
       "      <td>1.012864</td>\n",
       "      <td>1.399998</td>\n",
       "      <td>0.977948</td>\n",
       "      <td>0.671788</td>\n",
       "      <td>0.527534</td>\n",
       "      <td>0.159607</td>\n",
       "    </tr>\n",
       "  </tbody>\n",
       "</table>\n",
       "<p>3 rows × 610 columns</p>\n",
       "</div>"
      ],
      "text/plain": [
       "                삼성전자    SK하이닉스       현대차      셀트리온        기아      KB금융  \\\n",
       "2010-08-29  1.273018  1.278107  0.868342  0.920317  0.800798  1.663606   \n",
       "2010-08-30  1.263871  1.253407  0.874111  0.890493  0.797717  1.666423   \n",
       "2010-08-31  1.271296  1.281820  0.867501  0.874855  0.802497  1.666873   \n",
       "\n",
       "            POSCO홀딩스      신한지주     NAVER      LG화학  ...   제이준코스메틱      동양고속  \\\n",
       "2010-08-29  1.211268  1.275114  0.591013  0.995828  ...  1.334232  0.104456   \n",
       "2010-08-30  1.216729  1.282342  0.585835  0.986772  ...  1.302338  0.094483   \n",
       "2010-08-31  1.221349  1.282562  0.566062  0.983776  ...  1.311584  0.094808   \n",
       "\n",
       "                  한창        진도      한국주강   KC그린홀딩스     한솔PNS      주연테크  \\\n",
       "2010-08-29  0.432096  0.709205  1.025116  1.446386  1.022537  0.676625   \n",
       "2010-08-30  0.424786  0.700275  1.016870  1.427863  0.979397  0.689545   \n",
       "2010-08-31  0.444188  0.696791  1.012864  1.399998  0.977948  0.671788   \n",
       "\n",
       "                 SHD      일정실업  \n",
       "2010-08-29  0.574500  0.180172  \n",
       "2010-08-30  0.543796  0.168736  \n",
       "2010-08-31  0.527534  0.159607  \n",
       "\n",
       "[3 rows x 610 columns]"
      ]
     },
     "execution_count": 17,
     "metadata": {},
     "output_type": "execute_result"
    }
   ],
   "source": [
    "betas.head(3)"
   ]
  },
  {
   "cell_type": "code",
   "execution_count": 18,
   "metadata": {},
   "outputs": [],
   "source": [
    "some_beta= betas[betas.index=='2018-01-02'].squeeze()  # 종목컬럼에 해당 index에서 계산된 종목별 베타 추출  (squeeze는 차원축소 )"
   ]
  },
  {
   "cell_type": "code",
   "execution_count": 19,
   "metadata": {},
   "outputs": [
    {
     "data": {
      "text/plain": [
       "에이프로젠    -0.583380\n",
       "와이투솔루션   -0.570483\n",
       "미래아이앤지   -0.296314\n",
       "팜스코      -0.236709\n",
       "남양유업     -0.195390\n",
       "            ...   \n",
       "삼성SDI     1.981586\n",
       "DSR제강     1.982932\n",
       "코스모화학     2.087820\n",
       "유진투자증권    2.255709\n",
       "한화투자증권    2.472522\n",
       "Name: 2018-01-02 00:00:00, Length: 610, dtype: float64"
      ]
     },
     "execution_count": 19,
     "metadata": {},
     "output_type": "execute_result"
    }
   ],
   "source": [
    "some_beta.sort_values()"
   ]
  },
  {
   "cell_type": "code",
   "execution_count": 20,
   "metadata": {},
   "outputs": [],
   "source": [
    "any_beta = betas[betas.index=='2022-12-05'].squeeze()"
   ]
  },
  {
   "cell_type": "code",
   "execution_count": 21,
   "metadata": {},
   "outputs": [
    {
     "data": {
      "text/plain": [
       "Index(['삼성전자', 'SK하이닉스', '현대차', '셀트리온', '기아', 'KB금융', 'POSCO홀딩스', '신한지주',\n",
       "       'NAVER', '현대모비스',\n",
       "       ...\n",
       "       '미래아이앤지', '대한방직', 'TBH글로벌', '태원물산', '동원수산', '동양고속', '한국주강', 'KC그린홀딩스',\n",
       "       '주연테크', '일정실업'],\n",
       "      dtype='object', length=427)"
      ]
     },
     "execution_count": 21,
     "metadata": {},
     "output_type": "execute_result"
    }
   ],
   "source": [
    "any_beta[ any_beta <= np.quantile( any_beta,0.7)].index"
   ]
  },
  {
   "cell_type": "code",
   "execution_count": 22,
   "metadata": {},
   "outputs": [],
   "source": [
    "# Top, Down 종목 리스트와 성과분석\n",
    "\n",
    "def index_100(ret_df):\n",
    "    index_df = (1 + ret_df).cumprod() * 100\n",
    "    return index_df\n",
    "\n",
    "def ret_risk_profile(mp_index):\n",
    "    ret_df = pd.DataFrame(index=mp_index.columns)\n",
    "    ret_df[\"누적수익률\"] = mp_index.iloc[-1] / mp_index.iloc[0] - 1\n",
    "    delta_to_years = (mp_index.index[-1] - mp_index.index[0]).days / 365.25\n",
    "    ret_df[\"누적수익률(연율화)\"] = (1 + ret_df[\"누적수익률\"]) ** (1 / delta_to_years) - 1\n",
    "    ret_df[\"변동성(연율화)\"] = mp_index.resample(\"W\").last().pct_change().std() * np.sqrt(52)\n",
    "    ret_df = ret_df * 100\n",
    "    ret_df[\"샤프비율\"] = ret_df[\"누적수익률(연율화)\"] / ret_df[\"변동성(연율화)\"]\n",
    "    index_year = mp_index.resample(\"A\").last()\n",
    "    index_year_pct = index_year.pct_change()\n",
    "    index_year_pct.iloc[0] = index_year.iloc[0] / 100 - 1\n",
    "    index_year_pct.index = index_year_pct.index.year\n",
    "    index_year_pct = index_year_pct * 100\n",
    "    \n",
    "    ret_df[\"음의 변동성(연율화)\"] = mp_index.resample(\"W\").last().pct_change() [mp_index.resample(\"W\").last().pct_change()<0 ].std() * np.sqrt(52)\n",
    "    ret_df[\"Sortino\"] = ret_df[\"누적수익률(연율화)\"] / ret_df[\"음의 변동성(연율화)\"]\n",
    "    \n",
    "    comp_ret = (mp_index.pct_change()+1).cumprod() \n",
    "    peak=comp_ret.expanding(min_periods=1).max() \n",
    "    dd = (comp_ret/peak)-1 \n",
    "    ret_df[\"Maxdrawdown\"] =dd.min() \n",
    "\n",
    "    \n",
    "    return pd.concat([ret_df.T, index_year_pct])\n",
    "\n"
   ]
  },
  {
   "cell_type": "code",
   "execution_count": 23,
   "metadata": {},
   "outputs": [],
   "source": [
    "# 시뮬레이션 기간 설정 가능\n",
    "start_date = \"2016\"    \n",
    "end_date =   \"2024\"\n",
    "rebalancing_list = pd.date_range(start_date, end_date, freq='q')   # 리밸런싱 주기(분기) 데이터 생성 (연/월 형식)\n",
    "\n",
    "# rebalancing_list=['2016-01-04','2017-01-04','2018-01-04','2019-01-04','2020-01-06'\n",
    "#                 ,'2021-01-04','2022-01-04','2023-01-04','2024-01-04']"
   ]
  },
  {
   "cell_type": "code",
   "execution_count": 24,
   "metadata": {},
   "outputs": [],
   "source": [
    "# 분위별 포트폴리오 구성을 위한 저장소 생성\n",
    "column_list = ['beta_30%','beta_70%']\n",
    "portfolio_ret_df = pd.DataFrame(columns=column_list, index = cprice.loc[rebalancing_list[0]:].index) #  포트폴리오 일간 수익률 저장"
   ]
  },
  {
   "cell_type": "code",
   "execution_count": 25,
   "metadata": {},
   "outputs": [],
   "source": [
    "\n",
    "for i in range(len(rebalancing_list)):\n",
    "\n",
    "     beta = betas[betas.index==rebalancing_list[i]].squeeze()   # 시리즈로 변환\n",
    "     beta.sort_values(ascending=True,inplace=True) # 올림차순 소팅\n",
    "    \n",
    "    ### 베타 하위 30%\n",
    "     beta_p30_list = beta[ beta <= np.quantile( beta,0.3)].index  # 하위 30%  이하 기업명 추출\n",
    "    \n",
    "    ### 베타 상위 30%\n",
    "     beta_p70_list =  beta[ beta >= np.quantile( beta,0.7)].index  # 상위 30% 이상 기업명 추출\n",
    "    \n",
    "    # print( vol_p70_list)\n",
    "    \n",
    "    ### 포트폴리오 일간수익률    :  분위별 종목군들을 주가 데이터 날짜에 매칭하여   각 종목군별 일간 주가 수익률 평균을 구하여 저장\n",
    "    \n",
    "     portfolio_ret_df['beta_30%'].loc[rebalancing_list[i]:]= cprice[ beta_p30_list ].loc[rebalancing_list[i]:].pct_change(1).mean(axis=1).dropna()\n",
    "     portfolio_ret_df['beta_70%'].loc[rebalancing_list[i]:]= cprice[ beta_p70_list].loc[rebalancing_list[i]:].pct_change(1).mean(axis=1).dropna()\n",
    "     "
   ]
  },
  {
   "cell_type": "code",
   "execution_count": 26,
   "metadata": {},
   "outputs": [
    {
     "data": {
      "text/html": [
       "<div>\n",
       "<style scoped>\n",
       "    .dataframe tbody tr th:only-of-type {\n",
       "        vertical-align: middle;\n",
       "    }\n",
       "\n",
       "    .dataframe tbody tr th {\n",
       "        vertical-align: top;\n",
       "    }\n",
       "\n",
       "    .dataframe thead th {\n",
       "        text-align: right;\n",
       "    }\n",
       "</style>\n",
       "<table border=\"1\" class=\"dataframe\">\n",
       "  <thead>\n",
       "    <tr style=\"text-align: right;\">\n",
       "      <th></th>\n",
       "      <th>beta_30%</th>\n",
       "      <th>beta_70%</th>\n",
       "    </tr>\n",
       "    <tr>\n",
       "      <th>date</th>\n",
       "      <th></th>\n",
       "      <th></th>\n",
       "    </tr>\n",
       "  </thead>\n",
       "  <tbody>\n",
       "    <tr>\n",
       "      <th>2016-03-31</th>\n",
       "      <td>NaN</td>\n",
       "      <td>NaN</td>\n",
       "    </tr>\n",
       "    <tr>\n",
       "      <th>2016-04-01</th>\n",
       "      <td>0.001006</td>\n",
       "      <td>-0.003351</td>\n",
       "    </tr>\n",
       "    <tr>\n",
       "      <th>2016-04-02</th>\n",
       "      <td>0.0</td>\n",
       "      <td>0.0</td>\n",
       "    </tr>\n",
       "    <tr>\n",
       "      <th>2016-04-03</th>\n",
       "      <td>0.0</td>\n",
       "      <td>0.0</td>\n",
       "    </tr>\n",
       "    <tr>\n",
       "      <th>2016-04-04</th>\n",
       "      <td>-0.000604</td>\n",
       "      <td>0.007794</td>\n",
       "    </tr>\n",
       "    <tr>\n",
       "      <th>...</th>\n",
       "      <td>...</td>\n",
       "      <td>...</td>\n",
       "    </tr>\n",
       "    <tr>\n",
       "      <th>2024-10-04</th>\n",
       "      <td>0.00272</td>\n",
       "      <td>0.000849</td>\n",
       "    </tr>\n",
       "    <tr>\n",
       "      <th>2024-10-05</th>\n",
       "      <td>0.0</td>\n",
       "      <td>0.0</td>\n",
       "    </tr>\n",
       "    <tr>\n",
       "      <th>2024-10-06</th>\n",
       "      <td>0.0</td>\n",
       "      <td>0.0</td>\n",
       "    </tr>\n",
       "    <tr>\n",
       "      <th>2024-10-07</th>\n",
       "      <td>0.005126</td>\n",
       "      <td>0.016147</td>\n",
       "    </tr>\n",
       "    <tr>\n",
       "      <th>2024-10-08</th>\n",
       "      <td>-0.004078</td>\n",
       "      <td>-0.006071</td>\n",
       "    </tr>\n",
       "  </tbody>\n",
       "</table>\n",
       "<p>3114 rows × 2 columns</p>\n",
       "</div>"
      ],
      "text/plain": [
       "            beta_30%  beta_70%\n",
       "date                          \n",
       "2016-03-31       NaN       NaN\n",
       "2016-04-01  0.001006 -0.003351\n",
       "2016-04-02       0.0       0.0\n",
       "2016-04-03       0.0       0.0\n",
       "2016-04-04 -0.000604  0.007794\n",
       "...              ...       ...\n",
       "2024-10-04   0.00272  0.000849\n",
       "2024-10-05       0.0       0.0\n",
       "2024-10-06       0.0       0.0\n",
       "2024-10-07  0.005126  0.016147\n",
       "2024-10-08 -0.004078 -0.006071\n",
       "\n",
       "[3114 rows x 2 columns]"
      ]
     },
     "execution_count": 26,
     "metadata": {},
     "output_type": "execute_result"
    }
   ],
   "source": [
    "portfolio_ret_df"
   ]
  },
  {
   "cell_type": "code",
   "execution_count": 27,
   "metadata": {},
   "outputs": [
    {
     "data": {
      "text/plain": [
       "<Axes: xlabel='date'>"
      ]
     },
     "execution_count": 27,
     "metadata": {},
     "output_type": "execute_result"
    },
    {
     "data": {
      "image/png": "[encoded data removed]",
      "text/plain": [
       "<Figure size 640x480 with 1 Axes>"
      ]
     },
     "metadata": {},
     "output_type": "display_data"
    }
   ],
   "source": [
    "portfolio_ret_df.iloc[0] = 0\n",
    "portfolio_ret_df = portfolio_ret_df.dropna()\n",
    "\n",
    "# plot_list = [' beta_30%', ' beta_70%' ]\n",
    "\n",
    "index_100(portfolio_ret_df).plot()  \n"
   ]
  },
  {
   "cell_type": "code",
   "execution_count": 28,
   "metadata": {},
   "outputs": [],
   "source": [
    "pp=ret_risk_profile(index_100(portfolio_ret_df))  "
   ]
  },
  {
   "cell_type": "code",
   "execution_count": 29,
   "metadata": {},
   "outputs": [
    {
     "name": "stdout",
     "output_type": "stream",
     "text": [
      "              beta_30%   beta_70%\n",
      "누적수익률        13.330944  38.987786\n",
      "누적수익률(연율화)    1.479131    3.93828\n",
      "변동성(연율화)     14.542175  23.706413\n",
      "샤프비율          0.101713   0.166127\n",
      "음의 변동성(연율화)   0.130067   0.198107\n",
      "Sortino      11.372109  19.879533\n",
      "Maxdrawdown  -0.459847   -0.56892\n",
      "2016          0.252054   2.771444\n",
      "2017         -3.106108   5.029575\n",
      "2018         -3.486669  -8.699537\n",
      "2019          3.024705  -0.298478\n",
      "2020          11.39812  32.223283\n",
      "2021          15.61663  26.204164\n",
      "2022        -10.396833 -21.076496\n",
      "2023         -3.311939  18.023774\n",
      "2024          5.156413  -8.996032\n"
     ]
    }
   ],
   "source": [
    "print(pp)"
   ]
  },
  {
   "cell_type": "code",
   "execution_count": 30,
   "metadata": {},
   "outputs": [
    {
     "data": {
      "text/plain": [
       "<Axes: xlabel='date'>"
      ]
     },
     "execution_count": 30,
     "metadata": {},
     "output_type": "execute_result"
    },
    {
     "data": {
      "image/png": "[encoded data removed]",
      "text/plain": [
       "<Figure size 640x480 with 1 Axes>"
      ]
     },
     "metadata": {},
     "output_type": "display_data"
    }
   ],
   "source": [
    "index_year=index_100(portfolio_ret_df).resample(\"A\").last()    \n",
    "index_year.plot()"
   ]
  },
  {
   "cell_type": "code",
   "execution_count": null,
   "metadata": {},
   "outputs": [],
   "source": [
    "\n"
   ]
  },
  {
   "cell_type": "code",
   "execution_count": null,
   "metadata": {},
   "outputs": [],
   "source": []
  },
  {
   "cell_type": "code",
   "execution_count": null,
   "metadata": {},
   "outputs": [],
   "source": []
  }
 ],
 "metadata": {
  "kernelspec": {
   "display_name": "Python 3 (ipykernel)",
   "language": "python",
   "name": "python3"
  },
  "language_info": {
   "codemirror_mode": {
    "name": "ipython",
    "version": 3
   },
   "file_extension": ".py",
   "mimetype": "text/x-python",
   "name": "python",
   "nbconvert_exporter": "python",
   "pygments_lexer": "ipython3",
   "version": "3.9.19"
  }
 },
 "nbformat": 4,
 "nbformat_minor": 4
}
